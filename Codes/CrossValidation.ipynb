{
 "cells": [
  {
   "cell_type": "code",
   "execution_count": null,
   "metadata": {
    "id": "farhthuDRuLp"
   },
   "outputs": [],
   "source": [
    "from sklearn.linear_model import LogisticRegression\n",
    "from sklearn.svm import SVC\n",
    "from sklearn.ensemble import RandomForestClassifier\n",
    "import numpy as np\n",
    "import matplotlib.pyplot as plt \n",
    "\n",
    "from sklearn.datasets import load_digits\n",
    "digits = load_digits()"
   ]
  },
  {
   "cell_type": "markdown",
   "metadata": {
    "id": "08LCN8JITPS7"
   },
   "source": [
    "**Split into training and testing dataset**"
   ]
  },
  {
   "cell_type": "code",
   "execution_count": null,
   "metadata": {
    "id": "QBimgavYSrpG"
   },
   "outputs": [],
   "source": [
    "from sklearn.model_selection import train_test_split\n",
    "X_train, X_test, y_train, y_test = train_test_split(digits.data,digits.target,test_size=0.3)"
   ]
  },
  {
   "cell_type": "markdown",
   "metadata": {
    "id": "uPvgG5mBT1HM"
   },
   "source": [
    "**Logistic Regression**"
   ]
  },
  {
   "cell_type": "code",
   "execution_count": null,
   "metadata": {
    "id": "hn9fAhayTYBo"
   },
   "outputs": [],
   "source": [
    "lr = LogisticRegression(solver='liblinear',multi_class='ovr')\n",
    "lr.fit(X_train, y_train)\n",
    "a = lr.score(X_test, y_test)  \n"
   ]
  },
  {
   "cell_type": "markdown",
   "metadata": {
    "id": "-KWX-vjOUPU9"
   },
   "source": [
    "**SVM**"
   ]
  },
  {
   "cell_type": "code",
   "execution_count": null,
   "metadata": {
    "id": "np8kjuLhUAYQ"
   },
   "outputs": [],
   "source": [
    "svm = SVC(gamma='auto')\n",
    "svm.fit(X_train, y_train)\n",
    "b = svm.score(X_test, y_test)  \n"
   ]
  },
  {
   "cell_type": "markdown",
   "metadata": {
    "id": "AU-3EH_8UdI1"
   },
   "source": [
    "**Random Forest**"
   ]
  },
  {
   "cell_type": "code",
   "execution_count": null,
   "metadata": {
    "id": "V8wo2qCGUaty"
   },
   "outputs": [],
   "source": [
    "rf = RandomForestClassifier(n_estimators=40)\n",
    "rf.fit(X_train, y_train)\n",
    "c = rf.score(X_test, y_test)  \n"
   ]
  },
  {
   "cell_type": "code",
   "execution_count": null,
   "metadata": {
    "colab": {
     "base_uri": "https://localhost:8080/",
     "height": 387
    },
    "id": "w4NSqdcrpUnY",
    "outputId": "abaf63f9-45a7-430b-afcd-15e4588767ac"
   },
   "outputs": [
    {
     "data": {
      "image/png": "[encoded data removed]",
      "text/plain": [
       "<Figure size 432x288 with 1 Axes>"
      ]
     },
     "metadata": {
      "needs_background": "light",
      "tags": []
     },
     "output_type": "display_data"
    },
    {
     "name": "stdout",
     "output_type": "stream",
     "text": [
      "Accuracy of Logistic Regression  0.9537037037037037\n",
      "Accuracy of SVM  0.3925925925925926\n",
      "Accuracy of Random Forest  0.9648148148148148\n"
     ]
    }
   ],
   "source": [
    "fig = plt.figure() \n",
    "ax = fig.add_axes([0,0,1,1]) \n",
    "langs = ['Logistic Regression', 'SVM', 'Random Forest']  \n",
    "scores = [a,b,c] \n",
    "ax.bar(langs,scores)\n",
    "plt.show() \n",
    "\n",
    "print(\"Accuracy of Logistic Regression \", a) \n",
    "print(\"Accuracy of SVM \", b) \n",
    "print(\"Accuracy of Random Forest \", c)\n"
   ]
  },
  {
   "cell_type": "code",
   "execution_count": null,
   "metadata": {
    "id": "W4aiLXP2smX2"
   },
   "outputs": [],
   "source": [
    "from sklearn.model_selection import train_test_split\n",
    "X_train, X_test, y_train, y_test = train_test_split(digits.data,digits.target,test_size=0.3)"
   ]
  },
  {
   "cell_type": "code",
   "execution_count": null,
   "metadata": {
    "colab": {
     "base_uri": "https://localhost:8080/",
     "height": 387
    },
    "id": "xK-heITBszi7",
    "outputId": "a04bdcc5-881b-4df8-9da7-f42088144112"
   },
   "outputs": [
    {
     "name": "stdout",
     "output_type": "stream",
     "text": [
      "Accuracy of Logistic Regression  0.9611111111111111\n",
      "Accuracy of SVM  0.4388888888888889\n",
      "Accuracy of Random Forest  0.9648148148148148\n"
     ]
    },
    {
     "data": {
      "image/png": "[encoded data removed]",
      "text/plain": [
       "<Figure size 432x288 with 1 Axes>"
      ]
     },
     "metadata": {
      "needs_background": "light",
      "tags": []
     },
     "output_type": "display_data"
    }
   ],
   "source": [
    "lr = LogisticRegression(solver='liblinear',multi_class='ovr')\n",
    "lr.fit(X_train, y_train)\n",
    "a = lr.score(X_test, y_test)    \n",
    "print(\"Accuracy of Logistic Regression \", a)\n",
    "\n",
    "svm = SVC(gamma='auto')\n",
    "svm.fit(X_train, y_train)\n",
    "b = svm.score(X_test, y_test) \n",
    "print(\"Accuracy of SVM \", b) \n",
    "\n",
    "rf = RandomForestClassifier(n_estimators=40)\n",
    "rf.fit(X_train, y_train)\n",
    "c = rf.score(X_test, y_test)  \n",
    "print(\"Accuracy of Random Forest \", c)\n",
    "\n",
    "fig = plt.figure() \n",
    "ax = fig.add_axes([0,0,1,1]) \n",
    "langs = ['Logistic Regression', 'SVM', 'Random Forest']  \n",
    "scores = [a,b,c] \n",
    "ax.bar(langs,scores)\n",
    "plt.show()"
   ]
  },
  {
   "cell_type": "markdown",
   "metadata": {
    "id": "ZWETN_sKVCgc"
   },
   "source": [
    "**KFold Cross Validation**"
   ]
  },
  {
   "cell_type": "markdown",
   "metadata": {
    "id": "aQbBUVyVWx3Y"
   },
   "source": [
    "**Basic Example**"
   ]
  },
  {
   "cell_type": "code",
   "execution_count": null,
   "metadata": {
    "colab": {
     "base_uri": "https://localhost:8080/",
     "height": 34
    },
    "id": "nQgbEyltUkI0",
    "outputId": "061c3441-de86-4434-fa5b-67bd538f57b3"
   },
   "outputs": [
    {
     "data": {
      "text/plain": [
       "KFold(n_splits=3, random_state=None, shuffle=False)"
      ]
     },
     "execution_count": 6,
     "metadata": {
      "tags": []
     },
     "output_type": "execute_result"
    }
   ],
   "source": [
    "from sklearn.model_selection import KFold  \n",
    "kf = KFold(n_splits=3)  \n",
    "kf"
   ]
  },
  {
   "cell_type": "code",
   "execution_count": null,
   "metadata": {
    "colab": {
     "base_uri": "https://localhost:8080/",
     "height": 68
    },
    "id": "uP9X6nTyVcVF",
    "outputId": "fa591c7d-9e63-475d-cfc9-0d3a0c8a36c8"
   },
   "outputs": [
    {
     "name": "stdout",
     "output_type": "stream",
     "text": [
      "[3 4 5 6 7 8] [0 1 2]\n",
      "[0 1 2 6 7 8] [3 4 5]\n",
      "[0 1 2 3 4 5] [6 7 8]\n"
     ]
    }
   ],
   "source": [
    "for train_index, test_index in kf.split([1,2,3,4,5,6,7,8,9]): \n",
    "  print(train_index, test_index)"
   ]
  },
  {
   "cell_type": "code",
   "execution_count": null,
   "metadata": {
    "colab": {
     "base_uri": "https://localhost:8080/",
     "height": 170
    },
    "id": "VdxSpTbls-Mh",
    "outputId": "8dc62de8-89d5-4839-fdb5-9ad4559bf10e"
   },
   "outputs": [
    {
     "name": "stdout",
     "output_type": "stream",
     "text": [
      "[1 2 3 4 5 6 7 8] [0]\n",
      "[0 2 3 4 5 6 7 8] [1]\n",
      "[0 1 3 4 5 6 7 8] [2]\n",
      "[0 1 2 4 5 6 7 8] [3]\n",
      "[0 1 2 3 5 6 7 8] [4]\n",
      "[0 1 2 3 4 6 7 8] [5]\n",
      "[0 1 2 3 4 5 7 8] [6]\n",
      "[0 1 2 3 4 5 6 8] [7]\n",
      "[0 1 2 3 4 5 6 7] [8]\n"
     ]
    }
   ],
   "source": [
    "from sklearn.model_selection import KFold  \n",
    "kf = KFold(n_splits=9)  \n",
    "for train_index, test_index in kf.split([1,2,3,4,5,6,7,8,9]): \n",
    "  print(train_index, test_index)"
   ]
  },
  {
   "cell_type": "markdown",
   "metadata": {
    "id": "RH3R5WZZW4_Q"
   },
   "source": [
    "**Use KFold for our digits dataset**"
   ]
  },
  {
   "cell_type": "code",
   "execution_count": null,
   "metadata": {
    "id": "mR7W31D_Vx8O"
   },
   "outputs": [],
   "source": [
    "def get_score(model, X_train, X_test, y_train, y_test):\n",
    "    model.fit(X_train, y_train)\n",
    "    return model.score(X_test, y_test)"
   ]
  },
  {
   "cell_type": "code",
   "execution_count": null,
   "metadata": {
    "id": "UWNjowTWXyK5"
   },
   "outputs": [],
   "source": [
    "from sklearn.model_selection import StratifiedKFold\n",
    "folds = StratifiedKFold(n_splits=3) "
   ]
  },
  {
   "cell_type": "code",
   "execution_count": null,
   "metadata": {
    "id": "17X7SVLNZDE_"
   },
   "outputs": [],
   "source": [
    "scores_logistic = [] \n",
    "scores_svm = [] \n",
    "scores_rf = [] "
   ]
  },
  {
   "cell_type": "code",
   "execution_count": null,
   "metadata": {
    "id": "xvUBFcxmZP9s"
   },
   "outputs": [],
   "source": [
    "for train_index, test_index in folds.split(digits.data,digits.target):\n",
    "    X_train, X_test, y_train, y_test = digits.data[train_index], digits.data[test_index], \\\n",
    "                                       digits.target[train_index], digits.target[test_index]\n",
    "    scores_logistic.append(get_score(LogisticRegression(solver='liblinear',multi_class='ovr'), X_train, X_test, y_train, y_test))  \n",
    "    scores_svm.append(get_score(SVC(gamma='auto'), X_train, X_test, y_train, y_test))\n",
    "    scores_rf.append(get_score(RandomForestClassifier(n_estimators=40), X_train, X_test, y_train, y_test))"
   ]
  },
  {
   "cell_type": "markdown",
   "metadata": {
    "id": "0UIDbZgbcUmb"
   },
   "source": [
    "**Scores obtained by Logistic Regression**"
   ]
  },
  {
   "cell_type": "code",
   "execution_count": null,
   "metadata": {
    "colab": {
     "base_uri": "https://localhost:8080/",
     "height": 34
    },
    "id": "NNTNAsaMahkv",
    "outputId": "618547d2-3243-475a-90fb-5fba7a98b25b"
   },
   "outputs": [
    {
     "data": {
      "text/plain": [
       "[0.8948247078464107, 0.9532554257095158, 0.9098497495826378]"
      ]
     },
     "execution_count": 12,
     "metadata": {
      "tags": []
     },
     "output_type": "execute_result"
    }
   ],
   "source": [
    "scores_logistic"
   ]
  },
  {
   "cell_type": "markdown",
   "metadata": {
    "id": "IpyqTbF4ceDC"
   },
   "source": [
    "**Scores obtained by SVM**"
   ]
  },
  {
   "cell_type": "code",
   "execution_count": null,
   "metadata": {
    "colab": {
     "base_uri": "https://localhost:8080/",
     "height": 34
    },
    "id": "uCCBlbQga9Um",
    "outputId": "37190005-b366-4965-8111-be7a9cf3f338"
   },
   "outputs": [
    {
     "data": {
      "text/plain": [
       "[0.3806343906510851, 0.41068447412353926, 0.5125208681135225]"
      ]
     },
     "execution_count": 13,
     "metadata": {
      "tags": []
     },
     "output_type": "execute_result"
    }
   ],
   "source": [
    "scores_svm"
   ]
  },
  {
   "cell_type": "markdown",
   "metadata": {
    "id": "Nie9E9r2ciIf"
   },
   "source": [
    "**Scores obtained by Random Forest**"
   ]
  },
  {
   "cell_type": "code",
   "execution_count": null,
   "metadata": {
    "colab": {
     "base_uri": "https://localhost:8080/",
     "height": 34
    },
    "id": "KD3k5msDbQhr",
    "outputId": "f43f4024-fd7a-4a46-ebad-f46be26d7277"
   },
   "outputs": [
    {
     "data": {
      "text/plain": [
       "[0.9215358931552587, 0.9465776293823038, 0.9232053422370617]"
      ]
     },
     "execution_count": 14,
     "metadata": {
      "tags": []
     },
     "output_type": "execute_result"
    }
   ],
   "source": [
    "scores_rf"
   ]
  },
  {
   "cell_type": "code",
   "execution_count": null,
   "metadata": {
    "colab": {
     "base_uri": "https://localhost:8080/",
     "height": 68
    },
    "id": "Vf1NM4R8bTTb",
    "outputId": "f26d67f3-14f5-4eaa-b705-f8dee923a5f8"
   },
   "outputs": [
    {
     "name": "stdout",
     "output_type": "stream",
     "text": [
      "Average Score of Logistic Regression:  0.9193099610461881\n",
      "Average Score of SVM:  0.4346132442960489\n",
      "Average Score of Random Forest:  0.9348914858096827\n"
     ]
    }
   ],
   "source": [
    "print(\"Average Score of Logistic Regression: \", np.average(scores_logistic)) \n",
    "print(\"Average Score of SVM: \", np.average(scores_svm)) \n",
    "print(\"Average Score of Random Forest: \", np.average(scores_rf))"
   ]
  },
  {
   "cell_type": "markdown",
   "metadata": {
    "id": "O6x1KqQldk1p"
   },
   "source": [
    "**cross_val score function** "
   ]
  },
  {
   "cell_type": "code",
   "execution_count": null,
   "metadata": {
    "id": "nQXzrJ-7bXZH"
   },
   "outputs": [],
   "source": [
    "from sklearn.model_selection import cross_val_score"
   ]
  },
  {
   "cell_type": "markdown",
   "metadata": {
    "id": "AxkJqahCeBbZ"
   },
   "source": [
    "**Logistic regression model performance using cross_val_score**"
   ]
  },
  {
   "cell_type": "code",
   "execution_count": null,
   "metadata": {
    "colab": {
     "base_uri": "https://localhost:8080/",
     "height": 51
    },
    "id": "KGAsZE7hd0ZE",
    "outputId": "5631293c-dc3a-4ff3-9b0d-44f9b8dfa7a9"
   },
   "outputs": [
    {
     "name": "stdout",
     "output_type": "stream",
     "text": [
      "Linear Regression scores  [0.89482471 0.95325543 0.90984975]\n"
     ]
    },
    {
     "data": {
      "text/plain": [
       "0.9193099610461881"
      ]
     },
     "execution_count": 45,
     "metadata": {
      "tags": []
     },
     "output_type": "execute_result"
    }
   ],
   "source": [
    "a = cross_val_score(LogisticRegression(solver='liblinear',multi_class='ovr'), digits.data, digits.target,cv=3)  \n",
    "print(\"Linear Regression scores \", a)\n",
    "np.average(a)"
   ]
  },
  {
   "cell_type": "markdown",
   "metadata": {
    "id": "T37bMN3HeME7"
   },
   "source": [
    "**svm model performance using cross_val_score**"
   ]
  },
  {
   "cell_type": "code",
   "execution_count": null,
   "metadata": {
    "colab": {
     "base_uri": "https://localhost:8080/",
     "height": 51
    },
    "id": "mD3YzR3PeGmC",
    "outputId": "792d76ac-ef18-4ce4-8516-ba0213ec39f7"
   },
   "outputs": [
    {
     "name": "stdout",
     "output_type": "stream",
     "text": [
      "SVM scores  [0.38063439 0.41068447 0.51252087]\n",
      "0.4346132442960489\n"
     ]
    }
   ],
   "source": [
    "b = cross_val_score(SVC(gamma='auto'), digits.data, digits.target,cv=3) \n",
    "print(\"SVM scores \", b) \n",
    "print(np.average(b))"
   ]
  },
  {
   "cell_type": "markdown",
   "metadata": {
    "id": "ofzDLttMeUSe"
   },
   "source": [
    "**random forest performance using cross_val_score**"
   ]
  },
  {
   "cell_type": "code",
   "execution_count": null,
   "metadata": {
    "colab": {
     "base_uri": "https://localhost:8080/",
     "height": 51
    },
    "id": "xQVA_WRqeP-x",
    "outputId": "675ad2da-7ab3-420f-95df-138ba462b821"
   },
   "outputs": [
    {
     "name": "stdout",
     "output_type": "stream",
     "text": [
      "Random Forest scores  [0.93155259 0.96160267 0.92821369]\n",
      "0.9404563160823595\n"
     ]
    }
   ],
   "source": [
    "c = cross_val_score(RandomForestClassifier(n_estimators=40),digits.data, digits.target,cv=3) \n",
    "print(\"Random Forest scores \", c) \n",
    "print(np.average(c))"
   ]
  },
  {
   "cell_type": "code",
   "execution_count": null,
   "metadata": {
    "colab": {
     "base_uri": "https://localhost:8080/",
     "height": 387
    },
    "id": "PVeBhkDS2EAC",
    "outputId": "d17ab58e-b1ce-4cb5-a691-e5e2eddd9513"
   },
   "outputs": [
    {
     "data": {
      "image/png": "[encoded data removed]",
      "text/plain": [
       "<Figure size 432x288 with 1 Axes>"
      ]
     },
     "metadata": {
      "needs_background": "light",
      "tags": []
     },
     "output_type": "display_data"
    },
    {
     "name": "stdout",
     "output_type": "stream",
     "text": [
      "Accuracy of Logistic Regression  0.9193099610461881\n",
      "Accuracy of SVM  0.4346132442960489\n",
      "Accuracy of Random Forest  0.9404563160823595\n"
     ]
    }
   ],
   "source": [
    "fig = plt.figure() \n",
    "ax = fig.add_axes([0,0,1,1]) \n",
    "langs = ['Logistic Regression', 'SVM', 'Random Forest']  \n",
    "scores = [np.average(a),np.average(b),np.average(c)] \n",
    "ax.bar(langs,scores)\n",
    "plt.show() \n",
    "\n",
    "print(\"Accuracy of Logistic Regression \", np.average(a)) \n",
    "print(\"Accuracy of SVM \", np.average(b)) \n",
    "print(\"Accuracy of Random Forest \", np.average(c))"
   ]
  },
  {
   "cell_type": "markdown",
   "metadata": {
    "id": "VFygOMP-GSyV"
   },
   "source": [
    "**Hyper parameter tuning using k fold cross validation**"
   ]
  },
  {
   "cell_type": "code",
   "execution_count": null,
   "metadata": {
    "colab": {
     "base_uri": "https://localhost:8080/",
     "height": 34
    },
    "id": "ujhNCxF7fvcu",
    "outputId": "377e970f-c82a-4748-d674-418e7eb794a2"
   },
   "outputs": [
    {
     "data": {
      "text/plain": [
       "0.8742333954065797"
      ]
     },
     "execution_count": 22,
     "metadata": {
      "tags": []
     },
     "output_type": "execute_result"
    }
   ],
   "source": [
    "scores1 = cross_val_score(RandomForestClassifier(n_estimators=5),digits.data, digits.target, cv=10)\n",
    "np.average(scores1)"
   ]
  },
  {
   "cell_type": "code",
   "execution_count": null,
   "metadata": {
    "colab": {
     "base_uri": "https://localhost:8080/",
     "height": 34
    },
    "id": "2USlkVd7G_4K",
    "outputId": "fcce8270-f97d-4734-a3ad-6cbc33a4ef72"
   },
   "outputs": [
    {
     "data": {
      "text/plain": [
       "0.9399006828057106"
      ]
     },
     "execution_count": 23,
     "metadata": {
      "tags": []
     },
     "output_type": "execute_result"
    }
   ],
   "source": [
    "scores2 = cross_val_score(RandomForestClassifier(n_estimators=20),digits.data, digits.target, cv=10)\n",
    "np.average(scores2)"
   ]
  },
  {
   "cell_type": "code",
   "execution_count": null,
   "metadata": {
    "colab": {
     "base_uri": "https://localhost:8080/",
     "height": 34
    },
    "id": "nhovfFX2HPIv",
    "outputId": "ee5204b5-a60b-4e77-8a20-a92bd2de408d"
   },
   "outputs": [
    {
     "data": {
      "text/plain": [
       "0.9410211049037864"
      ]
     },
     "execution_count": 24,
     "metadata": {
      "tags": []
     },
     "output_type": "execute_result"
    }
   ],
   "source": [
    "scores3 = cross_val_score(RandomForestClassifier(n_estimators=30),digits.data, digits.target, cv=10)\n",
    "np.average(scores3)"
   ]
  },
  {
   "cell_type": "code",
   "execution_count": null,
   "metadata": {
    "colab": {
     "base_uri": "https://localhost:8080/",
     "height": 34
    },
    "id": "Eczw8NhoHVmO",
    "outputId": "4c7d15f2-a2d8-469a-ae38-aedb4e53344d"
   },
   "outputs": [
    {
     "data": {
      "text/plain": [
       "0.9476846679081314"
      ]
     },
     "execution_count": 25,
     "metadata": {
      "tags": []
     },
     "output_type": "execute_result"
    }
   ],
   "source": [
    "scores4 = cross_val_score(RandomForestClassifier(n_estimators=40),digits.data, digits.target, cv=10)\n",
    "np.average(scores4)"
   ]
  }
 ],
 "metadata": {
  "colab": {
   "collapsed_sections": [],
   "name": "CrossValidation.ipynb",
   "provenance": []
  },
  "kernelspec": {
   "display_name": "Python 3",
   "language": "python",
   "name": "python3"
  },
  "language_info": {
   "codemirror_mode": {
    "name": "ipython",
    "version": 3
   },
   "file_extension": ".py",
   "mimetype": "text/x-python",
   "name": "python",
   "nbconvert_exporter": "python",
   "pygments_lexer": "ipython3",
   "version": "3.8.8"
  }
 },
 "nbformat": 4,
 "nbformat_minor": 1
}
