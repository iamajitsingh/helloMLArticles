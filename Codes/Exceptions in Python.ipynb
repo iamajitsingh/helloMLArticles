{
 "cells": [
  {
   "cell_type": "code",
   "execution_count": 7,
   "id": "9c7f48e7",
   "metadata": {},
   "outputs": [
    {
     "ename": "ZeroDivisionError",
     "evalue": "division by zero",
     "output_type": "error",
     "traceback": [
      "\u001b[1;31m---------------------------------------------------------------------------\u001b[0m",
      "\u001b[1;31mZeroDivisionError\u001b[0m                         Traceback (most recent call last)",
      "\u001b[1;32m<ipython-input-7-2fc232d1511a>\u001b[0m in \u001b[0;36m<module>\u001b[1;34m\u001b[0m\n\u001b[1;32m----> 1\u001b[1;33m \u001b[0mprint\u001b[0m\u001b[1;33m(\u001b[0m\u001b[1;36m1\u001b[0m\u001b[1;33m/\u001b[0m\u001b[1;36m0\u001b[0m\u001b[1;33m)\u001b[0m\u001b[1;33m\u001b[0m\u001b[1;33m\u001b[0m\u001b[0m\n\u001b[0m",
      "\u001b[1;31mZeroDivisionError\u001b[0m: division by zero"
     ]
    }
   ],
   "source": [
    "print(1/0)"
   ]
  },
  {
   "cell_type": "code",
   "execution_count": 1,
   "id": "5ae7eaf1",
   "metadata": {},
   "outputs": [
    {
     "name": "stdout",
     "output_type": "stream",
     "text": [
      "You are trying to divide a number by 0! This is not allowed!\n"
     ]
    }
   ],
   "source": [
    "try:\n",
    "    print(1/0)\n",
    "except ZeroDivisionError:\n",
    "    print('You are trying to divide a number by 0! This is not allowed!')"
   ]
  },
  {
   "cell_type": "code",
   "execution_count": 4,
   "id": "c7b56aca",
   "metadata": {},
   "outputs": [
    {
     "name": "stdout",
     "output_type": "stream",
     "text": [
      "1.0\n"
     ]
    }
   ],
   "source": [
    "try: \n",
    "    print(1/1)\n",
    "except ZeroDivisionError:\n",
    "    print('You are trying to divide a number by 0! This is not allowed!')"
   ]
  },
  {
   "cell_type": "code",
   "execution_count": 6,
   "id": "0a75875a",
   "metadata": {},
   "outputs": [
    {
     "name": "stdout",
     "output_type": "stream",
     "text": [
      "1 divided by 1 gives us: 1\n"
     ]
    }
   ],
   "source": [
    "# Using Exceptions to prevent crashes\n",
    "# try-except-else\n",
    "n1 = 1\n",
    "n2 = 1\n",
    "try:\n",
    "    n3 = n1//n2\n",
    "except ZeroDivisionError:\n",
    "    print(\"You tried to divide {} by Zero!\".format(str(n1)))\n",
    "else:\n",
    "    print(\"{} divided by {} gives us: {}\".format(str(n1), str(n2), str(n3)))\n",
    "\n",
    "    "
   ]
  },
  {
   "cell_type": "code",
   "execution_count": 8,
   "id": "2e6b7725",
   "metadata": {},
   "outputs": [
    {
     "name": "stdout",
     "output_type": "stream",
     "text": [
      "You tried to divide 1 by Zero!\n",
      "This program was for integer division\n"
     ]
    }
   ],
   "source": [
    "# Using Exceptions to prevent crashes\n",
    "# try-except-else\n",
    "n1 = 1\n",
    "n2 = 0\n",
    "try:\n",
    "    n3 = n1//n2\n",
    "except ZeroDivisionError:\n",
    "    print(\"You tried to divide {} by Zero!\".format(str(n1)))\n",
    "else:\n",
    "    print(\"{} divided by {} gives us: {}\".format(str(n1), str(n2), str(n3)))\n",
    "finally:\n",
    "    print(\"This program was for integer division\")"
   ]
  },
  {
   "cell_type": "code",
   "execution_count": 15,
   "id": "29ab166e",
   "metadata": {
    "scrolled": true
   },
   "outputs": [
    {
     "ename": "FileNotFoundError",
     "evalue": "[Errno 2] No such file or directory: 'test.txt'",
     "output_type": "error",
     "traceback": [
      "\u001b[1;31m---------------------------------------------------------------------------\u001b[0m",
      "\u001b[1;31mFileNotFoundError\u001b[0m                         Traceback (most recent call last)",
      "\u001b[1;32m<ipython-input-15-a8c6235fb8e1>\u001b[0m in \u001b[0;36m<module>\u001b[1;34m\u001b[0m\n\u001b[1;32m----> 1\u001b[1;33m \u001b[0mfile\u001b[0m \u001b[1;33m=\u001b[0m \u001b[0mopen\u001b[0m\u001b[1;33m(\u001b[0m\u001b[1;34m'test.txt'\u001b[0m\u001b[1;33m)\u001b[0m\u001b[1;33m\u001b[0m\u001b[1;33m\u001b[0m\u001b[0m\n\u001b[0m",
      "\u001b[1;31mFileNotFoundError\u001b[0m: [Errno 2] No such file or directory: 'test.txt'"
     ]
    }
   ],
   "source": [
    "file = open('test.txt')\n",
    "# open is a built in function to open a file. in this case, in the currrent directory"
   ]
  },
  {
   "cell_type": "code",
   "execution_count": 17,
   "id": "00e0784b",
   "metadata": {},
   "outputs": [
    {
     "ename": "SyntaxError",
     "evalue": "unexpected EOF while parsing (<ipython-input-17-d5ae40c41fba>, line 1)",
     "output_type": "error",
     "traceback": [
      "\u001b[1;36m  File \u001b[1;32m\"<ipython-input-17-d5ae40c41fba>\"\u001b[1;36m, line \u001b[1;32m1\u001b[0m\n\u001b[1;33m    print('hello ML'\u001b[0m\n\u001b[1;37m                    ^\u001b[0m\n\u001b[1;31mSyntaxError\u001b[0m\u001b[1;31m:\u001b[0m unexpected EOF while parsing\n"
     ]
    }
   ],
   "source": [
    "print('hello ML'"
   ]
  }
 ],
 "metadata": {
  "kernelspec": {
   "display_name": "Python 3",
   "language": "python",
   "name": "python3"
  },
  "language_info": {
   "codemirror_mode": {
    "name": "ipython",
    "version": 3
   },
   "file_extension": ".py",
   "mimetype": "text/x-python",
   "name": "python",
   "nbconvert_exporter": "python",
   "pygments_lexer": "ipython3",
   "version": "3.8.8"
  }
 },
 "nbformat": 4,
 "nbformat_minor": 5
}
