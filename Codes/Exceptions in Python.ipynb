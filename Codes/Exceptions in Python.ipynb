{
 "cells": [
  {
   "cell_type": "code",
   "execution_count": 7,
   "id": "e01da894",
   "metadata": {},
   "outputs": [
    {
     "ename": "SyntaxError",
     "evalue": "unexpected EOF while parsing (<ipython-input-7-d5ae40c41fba>, line 1)",
     "output_type": "error",
     "traceback": [
      "\u001b[1;36m  File \u001b[1;32m\"<ipython-input-7-d5ae40c41fba>\"\u001b[1;36m, line \u001b[1;32m1\u001b[0m\n\u001b[1;33m    print('hello ML'\u001b[0m\n\u001b[1;37m                    ^\u001b[0m\n\u001b[1;31mSyntaxError\u001b[0m\u001b[1;31m:\u001b[0m unexpected EOF while parsing\n"
     ]
    }
   ],
   "source": [
    "print('hello ML'"
   ]
  },
  {
   "cell_type": "code",
   "execution_count": 7,
   "id": "9c7f48e7",
   "metadata": {},
   "outputs": [
    {
     "ename": "ZeroDivisionError",
     "evalue": "division by zero",
     "output_type": "error",
     "traceback": [
      "\u001b[1;31m---------------------------------------------------------------------------\u001b[0m",
      "\u001b[1;31mZeroDivisionError\u001b[0m                         Traceback (most recent call last)",
      "\u001b[1;32m<ipython-input-7-2fc232d1511a>\u001b[0m in \u001b[0;36m<module>\u001b[1;34m\u001b[0m\n\u001b[1;32m----> 1\u001b[1;33m \u001b[0mprint\u001b[0m\u001b[1;33m(\u001b[0m\u001b[1;36m1\u001b[0m\u001b[1;33m/\u001b[0m\u001b[1;36m0\u001b[0m\u001b[1;33m)\u001b[0m\u001b[1;33m\u001b[0m\u001b[1;33m\u001b[0m\u001b[0m\n\u001b[0m",
      "\u001b[1;31mZeroDivisionError\u001b[0m: division by zero"
     ]
    }
   ],
   "source": [
    "print(1/0)"
   ]
  },
  {
   "cell_type": "code",
   "execution_count": 1,
   "id": "1a9df3dc",
   "metadata": {},
   "outputs": [
    {
     "name": "stdout",
     "output_type": "stream",
     "text": [
      "Exception happened\n"
     ]
    }
   ],
   "source": [
    "try:\n",
    "    print(1/0)\n",
    "except:\n",
    "    print(\"Exception!\")"
   ]
  },
  {
   "cell_type": "code",
   "execution_count": 10,
   "id": "dc7e3031",
   "metadata": {},
   "outputs": [
    {
     "name": "stdout",
     "output_type": "stream",
     "text": [
      "1.0\n"
     ]
    }
   ],
   "source": [
    "try: \n",
    "    print(1/1)\n",
    "except:\n",
    "    print('Exception happened!')"
   ]
  },
  {
   "cell_type": "code",
   "execution_count": 8,
   "id": "5985c5c0",
   "metadata": {},
   "outputs": [
    {
     "name": "stdout",
     "output_type": "stream",
     "text": [
      "You are trying to divide a number by 0! This is not allowed!\n"
     ]
    }
   ],
   "source": [
    "try:\n",
    "    print(1/0)\n",
    "except ZeroDivisionError:\n",
    "    print('You are trying to divide a number by 0! This is not allowed!')"
   ]
  },
  {
   "cell_type": "code",
   "execution_count": 9,
   "id": "239ad9c5",
   "metadata": {},
   "outputs": [
    {
     "name": "stdout",
     "output_type": "stream",
     "text": [
      "division by zero\n"
     ]
    }
   ],
   "source": [
    "try:\n",
    "    print(1/0)\n",
    "except ZeroDivisionError as e:\n",
    "    print(e.args[0])"
   ]
  },
  {
   "cell_type": "code",
   "execution_count": 11,
   "id": "0a75875a",
   "metadata": {},
   "outputs": [
    {
     "name": "stdout",
     "output_type": "stream",
     "text": [
      "1 divided by 1 gives us: 1\n"
     ]
    }
   ],
   "source": [
    "# Using Exceptions to prevent crashes\n",
    "# try-except-else\n",
    "n1 = 1\n",
    "n2 = 1\n",
    "try:\n",
    "    n3 = n1//n2\n",
    "except ZeroDivisionError:\n",
    "    print(\"You tried to divide {} by Zero!\".format(str(n1)))\n",
    "else:\n",
    "    print(\"{} divided by {} gives us: {}\".format(str(n1), str(n2), str(n3)))\n",
    "\n",
    "    "
   ]
  },
  {
   "cell_type": "code",
   "execution_count": 12,
   "id": "2e6b7725",
   "metadata": {},
   "outputs": [
    {
     "name": "stdout",
     "output_type": "stream",
     "text": [
      "You tried to divide 1 by Zero!\n",
      "This program was for integer division\n"
     ]
    }
   ],
   "source": [
    "# Using Exceptions to prevent crashes\n",
    "# try-except-else\n",
    "n1 = 1\n",
    "n2 = 0\n",
    "try:\n",
    "    n3 = n1//n2\n",
    "except ZeroDivisionError:\n",
    "    print(\"You tried to divide {} by Zero!\".format(str(n1)))\n",
    "else:\n",
    "    print(\"{} divided by {} gives us: {}\".format(str(n1), str(n2), str(n3)))\n",
    "finally:\n",
    "    print(\"This program was for integer division\")"
   ]
  },
  {
   "cell_type": "code",
   "execution_count": 13,
   "id": "29ab166e",
   "metadata": {
    "scrolled": true
   },
   "outputs": [
    {
     "ename": "FileNotFoundError",
     "evalue": "[Errno 2] No such file or directory: 'test.txt'",
     "output_type": "error",
     "traceback": [
      "\u001b[1;31m---------------------------------------------------------------------------\u001b[0m",
      "\u001b[1;31mFileNotFoundError\u001b[0m                         Traceback (most recent call last)",
      "\u001b[1;32m<ipython-input-13-704f380eaa01>\u001b[0m in \u001b[0;36m<module>\u001b[1;34m\u001b[0m\n\u001b[1;32m----> 1\u001b[1;33m \u001b[0mfile\u001b[0m \u001b[1;33m=\u001b[0m \u001b[0mopen\u001b[0m\u001b[1;33m(\u001b[0m\u001b[1;34m'test.txt'\u001b[0m\u001b[1;33m)\u001b[0m\u001b[1;33m\u001b[0m\u001b[1;33m\u001b[0m\u001b[0m\n\u001b[0m\u001b[0;32m      2\u001b[0m \u001b[1;31m# open is a built in function to open a file. in this case, in the currrent directory\u001b[0m\u001b[1;33m\u001b[0m\u001b[1;33m\u001b[0m\u001b[1;33m\u001b[0m\u001b[0m\n",
      "\u001b[1;31mFileNotFoundError\u001b[0m: [Errno 2] No such file or directory: 'test.txt'"
     ]
    }
   ],
   "source": [
    "file = open('test.txt')\n",
    "# open is a built in function to open a file. in this case, in the currrent directory"
   ]
  },
  {
   "cell_type": "code",
   "execution_count": 15,
   "id": "76332d8b",
   "metadata": {},
   "outputs": [],
   "source": [
    "file = open('number')"
   ]
  },
  {
   "cell_type": "code",
   "execution_count": 16,
   "id": "415a105b",
   "metadata": {},
   "outputs": [],
   "source": [
    "divisor = int(file.read())\n",
    "file.close()"
   ]
  },
  {
   "cell_type": "code",
   "execution_count": 17,
   "id": "22473fc1",
   "metadata": {},
   "outputs": [
    {
     "data": {
      "text/plain": [
       "0"
      ]
     },
     "execution_count": 17,
     "metadata": {},
     "output_type": "execute_result"
    }
   ],
   "source": [
    "int(divisor) "
   ]
  },
  {
   "cell_type": "code",
   "execution_count": 18,
   "id": "0a56c86b",
   "metadata": {},
   "outputs": [
    {
     "name": "stdout",
     "output_type": "stream",
     "text": [
      "You tried to open a file which doesn't exist in your current working directory\n"
     ]
    }
   ],
   "source": [
    "n = 5\n",
    "try:\n",
    "    file = open('numbr')\n",
    "    div = int(file.read())\n",
    "    result = n/div\n",
    "except FileNotFoundError:\n",
    "    print('You tried to open a file which doesn\\'t exist in your current working directory')\n",
    "except ZeroDivisionError:\n",
    "    print('You tried to divide by zero!')\n",
    "else:\n",
    "    file.close()\n",
    "    print('{} divided by {} gives us {}'.format(str(n), str(div), str(result)))"
   ]
  },
  {
   "cell_type": "code",
   "execution_count": 22,
   "id": "c2ac5cf5",
   "metadata": {},
   "outputs": [
    {
     "name": "stdout",
     "output_type": "stream",
     "text": [
      "6\n"
     ]
    },
    {
     "ename": "Exception",
     "evalue": "Cannot enter number greater than 5",
     "output_type": "error",
     "traceback": [
      "\u001b[1;31m---------------------------------------------------------------------------\u001b[0m",
      "\u001b[1;31mException\u001b[0m                                 Traceback (most recent call last)",
      "\u001b[1;32m<ipython-input-22-31155e995f24>\u001b[0m in \u001b[0;36m<module>\u001b[1;34m\u001b[0m\n\u001b[0;32m      1\u001b[0m \u001b[0mn\u001b[0m \u001b[1;33m=\u001b[0m \u001b[0mint\u001b[0m\u001b[1;33m(\u001b[0m\u001b[0minput\u001b[0m\u001b[1;33m(\u001b[0m\u001b[1;33m)\u001b[0m\u001b[1;33m)\u001b[0m\u001b[1;33m\u001b[0m\u001b[1;33m\u001b[0m\u001b[0m\n\u001b[0;32m      2\u001b[0m \u001b[1;32mif\u001b[0m \u001b[0mn\u001b[0m \u001b[1;33m>\u001b[0m \u001b[1;36m5\u001b[0m\u001b[1;33m:\u001b[0m\u001b[1;33m\u001b[0m\u001b[1;33m\u001b[0m\u001b[0m\n\u001b[1;32m----> 3\u001b[1;33m     \u001b[1;32mraise\u001b[0m \u001b[0mException\u001b[0m\u001b[1;33m(\u001b[0m\u001b[1;34m'Cannot enter number greater than 5'\u001b[0m\u001b[1;33m)\u001b[0m\u001b[1;33m\u001b[0m\u001b[1;33m\u001b[0m\u001b[0m\n\u001b[0m",
      "\u001b[1;31mException\u001b[0m: Cannot enter number greater than 5"
     ]
    }
   ],
   "source": [
    "n = int(input())\n",
    "if n > 5:\n",
    "    raise Exception('Cannot enter number greater than 5')"
   ]
  },
  {
   "cell_type": "code",
   "execution_count": 23,
   "id": "f80aa7d4",
   "metadata": {},
   "outputs": [
    {
     "name": "stdout",
     "output_type": "stream",
     "text": [
      "0\n",
      "Can't enter 0. Try again\n"
     ]
    }
   ],
   "source": [
    "try:\n",
    "    n = int(input())\n",
    "    if n == 0:\n",
    "        raise ValueError\n",
    "except ValueError:\n",
    "    print (\"Can\\'t enter 0. Try again\")"
   ]
  }
 ],
 "metadata": {
  "kernelspec": {
   "display_name": "Python 3",
   "language": "python",
   "name": "python3"
  },
  "language_info": {
   "codemirror_mode": {
    "name": "ipython",
    "version": 3
   },
   "file_extension": ".py",
   "mimetype": "text/x-python",
   "name": "python",
   "nbconvert_exporter": "python",
   "pygments_lexer": "ipython3",
   "version": "3.8.8"
  }
 },
 "nbformat": 4,
 "nbformat_minor": 5
}
